{
 "cells": [
  {
   "cell_type": "code",
   "execution_count": 1,
   "metadata": {},
   "outputs": [
    {
     "name": "stdout",
     "output_type": "stream",
     "text": [
      "Collecting google-cloud-vision\n",
      "\u001b[?25l  Downloading https://files.pythonhosted.org/packages/9c/b6/f4ab6cb5dd8d64fcedee980f653addabb82b20fc95905e54b915ebfc453d/google_cloud_vision-2.7.0-py2.py3-none-any.whl (383kB)\n",
      "\u001b[K    100% |████████████████████████████████| 389kB 2.7MB/s ta 0:00:01\n",
      "\u001b[?25hCollecting proto-plus>=1.15.0 (from google-cloud-vision)\n",
      "\u001b[?25l  Downloading https://files.pythonhosted.org/packages/1c/db/840bbdc67548560f930b6a352b1075f2ea228b9a910bfa8f9ef3b5aa3dfb/proto_plus-1.20.3-py3-none-any.whl (46kB)\n",
      "\u001b[K    100% |████████████████████████████████| 51kB 4.1MB/s ta 0:00:01\n",
      "\u001b[?25hCollecting google-api-core[grpc]<3.0.0dev,>=1.28.0 (from google-cloud-vision)\n",
      "\u001b[?25l  Downloading https://files.pythonhosted.org/packages/cf/65/c0b37e4fa65e41cf6a3fc998659ce13c6574a26332d710b00c579497f194/google_api_core-2.6.0-py2.py3-none-any.whl (114kB)\n",
      "\u001b[K    100% |████████████████████████████████| 122kB 4.4MB/s ta 0:00:01\n",
      "\u001b[?25hCollecting protobuf>=3.19.0 (from proto-plus>=1.15.0->google-cloud-vision)\n",
      "\u001b[?25l  Downloading https://files.pythonhosted.org/packages/17/76/05be12cd81c7c3020acab58c641de975a3bad494d7bb818886c9c3863619/protobuf-3.19.4-cp37-cp37m-macosx_10_9_x86_64.whl (960kB)\n",
      "\u001b[K    100% |████████████████████████████████| 962kB 1.2MB/s ta 0:00:011\n",
      "\u001b[?25hCollecting google-auth<3.0dev,>=1.25.0 (from google-api-core[grpc]<3.0.0dev,>=1.28.0->google-cloud-vision)\n",
      "\u001b[?25l  Downloading https://files.pythonhosted.org/packages/66/12/eb8e0254e84f47deb4bd65858aef26f93fb4786091442d6bd2e86a5843d3/google_auth-2.6.0-py2.py3-none-any.whl (156kB)\n",
      "\u001b[K    100% |████████████████████████████████| 163kB 4.1MB/s ta 0:00:01\n",
      "\u001b[?25hCollecting googleapis-common-protos<2.0dev,>=1.52.0 (from google-api-core[grpc]<3.0.0dev,>=1.28.0->google-cloud-vision)\n",
      "\u001b[?25l  Downloading https://files.pythonhosted.org/packages/50/a9/6c76954ad5ee88c749407b282e5dfa724e3bd3065a069bcbe6a3da08a3e3/googleapis_common_protos-1.55.0-py2.py3-none-any.whl (212kB)\n",
      "\u001b[K    100% |████████████████████████████████| 215kB 4.3MB/s ta 0:00:01\n",
      "\u001b[?25hRequirement already satisfied: requests<3.0.0dev,>=2.18.0 in /Users/kitesurfer/anaconda3/lib/python3.7/site-packages (from google-api-core[grpc]<3.0.0dev,>=1.28.0->google-cloud-vision) (2.21.0)\n",
      "Collecting grpcio<2.0dev,>=1.33.2; extra == \"grpc\" (from google-api-core[grpc]<3.0.0dev,>=1.28.0->google-cloud-vision)\n",
      "\u001b[?25l  Downloading https://files.pythonhosted.org/packages/f6/57/531faec65f86581e9ebd17ed0ff8818697a3aa7ed1a499f7b06c8dd0ef30/grpcio-1.44.0-cp37-cp37m-macosx_10_10_x86_64.whl (4.2MB)\n",
      "\u001b[K    100% |████████████████████████████████| 4.2MB 3.1MB/s ta 0:00:01    48% |███████████████▍                | 2.0MB 4.9MB/s eta 0:00:01\n",
      "\u001b[?25hCollecting grpcio-status<2.0dev,>=1.33.2; extra == \"grpc\" (from google-api-core[grpc]<3.0.0dev,>=1.28.0->google-cloud-vision)\n",
      "  Downloading https://files.pythonhosted.org/packages/aa/de/471fdb2ffec3157ec9c70cd4bde713a200c74dcb0eefb6e67922528c8e2f/grpcio_status-1.44.0-py3-none-any.whl\n",
      "Collecting rsa<5,>=3.1.4; python_version >= \"3.6\" (from google-auth<3.0dev,>=1.25.0->google-api-core[grpc]<3.0.0dev,>=1.28.0->google-cloud-vision)\n",
      "  Downloading https://files.pythonhosted.org/packages/30/ab/8fd9e88e6fa5ec41afca995938bbefb72195278e0cfc5bd76a4f29b23fb2/rsa-4.8-py3-none-any.whl\n",
      "Requirement already satisfied: six>=1.9.0 in /Users/kitesurfer/anaconda3/lib/python3.7/site-packages (from google-auth<3.0dev,>=1.25.0->google-api-core[grpc]<3.0.0dev,>=1.28.0->google-cloud-vision) (1.12.0)\n",
      "Collecting pyasn1-modules>=0.2.1 (from google-auth<3.0dev,>=1.25.0->google-api-core[grpc]<3.0.0dev,>=1.28.0->google-cloud-vision)\n",
      "  Using cached https://files.pythonhosted.org/packages/95/de/214830a981892a3e286c3794f41ae67a4495df1108c3da8a9f62159b9a9d/pyasn1_modules-0.2.8-py2.py3-none-any.whl\n",
      "Collecting cachetools<6.0,>=2.0.0 (from google-auth<3.0dev,>=1.25.0->google-api-core[grpc]<3.0.0dev,>=1.28.0->google-cloud-vision)\n",
      "  Downloading https://files.pythonhosted.org/packages/19/99/ace1769546388976b45e93445bb04c6df95e96363f03fbb56f916da5ebde/cachetools-5.0.0-py3-none-any.whl\n",
      "Requirement already satisfied: certifi>=2017.4.17 in /Users/kitesurfer/anaconda3/lib/python3.7/site-packages (from requests<3.0.0dev,>=2.18.0->google-api-core[grpc]<3.0.0dev,>=1.28.0->google-cloud-vision) (2021.5.30)\n",
      "Requirement already satisfied: chardet<3.1.0,>=3.0.2 in /Users/kitesurfer/anaconda3/lib/python3.7/site-packages (from requests<3.0.0dev,>=2.18.0->google-api-core[grpc]<3.0.0dev,>=1.28.0->google-cloud-vision) (3.0.4)\n",
      "Requirement already satisfied: idna<2.9,>=2.5 in /Users/kitesurfer/anaconda3/lib/python3.7/site-packages (from requests<3.0.0dev,>=2.18.0->google-api-core[grpc]<3.0.0dev,>=1.28.0->google-cloud-vision) (2.8)\n",
      "Requirement already satisfied: urllib3<1.25,>=1.21.1 in /Users/kitesurfer/anaconda3/lib/python3.7/site-packages (from requests<3.0.0dev,>=2.18.0->google-api-core[grpc]<3.0.0dev,>=1.28.0->google-cloud-vision) (1.24.1)\n",
      "Collecting pyasn1>=0.1.3 (from rsa<5,>=3.1.4; python_version >= \"3.6\"->google-auth<3.0dev,>=1.25.0->google-api-core[grpc]<3.0.0dev,>=1.28.0->google-cloud-vision)\n",
      "  Using cached https://files.pythonhosted.org/packages/62/1e/a94a8d635fa3ce4cfc7f506003548d0a2447ae76fd5ca53932970fe3053f/pyasn1-0.4.8-py2.py3-none-any.whl\n",
      "\u001b[31mtensorflow 1.14.0 requires google-pasta>=0.1.6, which is not installed.\u001b[0m\n",
      "\u001b[31mtensorboard 1.14.0 has requirement setuptools>=41.0.0, but you'll have setuptools 40.8.0 which is incompatible.\u001b[0m\n",
      "Installing collected packages: protobuf, proto-plus, pyasn1, rsa, pyasn1-modules, cachetools, google-auth, googleapis-common-protos, grpcio, grpcio-status, google-api-core, google-cloud-vision\n",
      "  Found existing installation: protobuf 3.11.4\n",
      "    Uninstalling protobuf-3.11.4:\n",
      "      Successfully uninstalled protobuf-3.11.4\n",
      "  Found existing installation: grpcio 1.16.1\n",
      "    Uninstalling grpcio-1.16.1:\n",
      "      Successfully uninstalled grpcio-1.16.1\n",
      "Successfully installed cachetools-5.0.0 google-api-core-2.6.0 google-auth-2.6.0 google-cloud-vision-2.7.0 googleapis-common-protos-1.55.0 grpcio-1.44.0 grpcio-status-1.44.0 proto-plus-1.20.3 protobuf-3.19.4 pyasn1-0.4.8 pyasn1-modules-0.2.8 rsa-4.8\n",
      "Note: you may need to restart the kernel to use updated packages.\n"
     ]
    }
   ],
   "source": [
    "pip install google-cloud-vision"
   ]
  },
  {
   "cell_type": "code",
   "execution_count": 9,
   "metadata": {},
   "outputs": [],
   "source": [
    "import os\n",
    "\n",
    "from google.cloud import vision\n",
    "from google.cloud.vision_v1 import types"
   ]
  },
  {
   "cell_type": "code",
   "execution_count": 10,
   "metadata": {},
   "outputs": [],
   "source": [
    "#the JSON file you downloaded in step 5 above\n",
    "os.environ['GOOGLE_APPLICATION_CREDENTIALS'] = 'hackherthon-79875bed803f.json'"
   ]
  },
  {
   "cell_type": "code",
   "execution_count": 11,
   "metadata": {},
   "outputs": [],
   "source": [
    "# Instantiates a client\n",
    "client = vision.ImageAnnotatorClient()"
   ]
  },
  {
   "cell_type": "code",
   "execution_count": 14,
   "metadata": {},
   "outputs": [],
   "source": [
    "#set this thumbnail as the url\n",
    "image = types.Image()\n",
    "image.source.image_uri = 'crisps.jpg'\n"
   ]
  },
  {
   "cell_type": "code",
   "execution_count": 15,
   "metadata": {},
   "outputs": [],
   "source": [
    "#### LABEL DETECTION ######\n",
    "\n",
    "response_label = client.label_detection(image=image)\n",
    "\n",
    "for label in response_label.label_annotations:\n",
    "    print({'label': label.description, 'score': label.score})"
   ]
  },
  {
   "cell_type": "code",
   "execution_count": null,
   "metadata": {},
   "outputs": [],
   "source": []
  }
 ],
 "metadata": {
  "kernelspec": {
   "display_name": "Python 3",
   "language": "python",
   "name": "python3"
  },
  "language_info": {
   "codemirror_mode": {
    "name": "ipython",
    "version": 3
   },
   "file_extension": ".py",
   "mimetype": "text/x-python",
   "name": "python",
   "nbconvert_exporter": "python",
   "pygments_lexer": "ipython3",
   "version": "3.7.3"
  }
 },
 "nbformat": 4,
 "nbformat_minor": 2
}
